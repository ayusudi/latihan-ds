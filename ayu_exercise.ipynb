{
  "cells": [
    {
      "cell_type": "markdown",
      "metadata": {},
      "source": [
        "Nama : .....   \n",
        "Batch : ......  \n",
        "Objective : ....."
      ]
    },
    {
      "cell_type": "markdown",
      "metadata": {
        "id": "s43_pVnBCDUv"
      },
      "source": [
        "# **Latihan Buddy Session**\n",
        "\n",
        "> Dilarang dibuka saat livecode. Kalian boleh membuka jawaban latihan tapi bukan kunci jawaban instruktur.\n",
        "\n",
        "## Objective\n",
        "- Student dapat mengakses dataset pada bigquery\n",
        "- Student dapat menggunakan panda pada colab dengan file ipynb\n",
        "- Student dapat menjelaskan data dengan narasi yang mudah dipahami orang awam\n",
        "- Student dapat menjelas deskriptif statiska data yang didapat dan memberikan insight sebagai data analyst.\n",
        "- Student dapat membuat REST API sederhana dengan FASTAPI gunakan file py dan file csv.\n",
        "\n",
        "> ***BUATLAH DOKUMENTASI PENGERJAAN YANG JELAS, DAPAT DI PAHAMI DAN RAPI.***\n",
        "\n",
        "# **Exercise**\n",
        "Menggunakan dataset bigquery berikut `bigquery-public-data.baseball.games_wide`\n",
        "\n",
        "> Ingat ini latihan tapi harus latih kebiasaan membuat narasi penjelasan kode yang dibuat ataupun analisa yang dibuat untuk apa, jangan lupa selalu berikan nama dan batch diawal file."
      ]
    },
    {
      "cell_type": "markdown",
      "metadata": {
        "id": "zj3EplvGt_Bw"
      },
      "source": [
        "\n",
        "## **Latihan Pandas**\n",
        "Kerjakan dengan file `ipynb`.\n",
        "1. Tampilkan data pada tableschedules yaitu column duration.\n",
        "2. Lakukan data cleaning dan simpan di data.csv terhadap data duration.\n"
      ]
    },
    {
      "cell_type": "code",
      "execution_count": null,
      "metadata": {
        "colab": {
          "base_uri": "https://localhost:8080/"
        },
        "id": "3iyp9ooIuM_e",
        "outputId": "24c24b18-bb5e-4f65-95bf-2df080b856a3"
      },
      "outputs": [],
      "source": []
    },
    {
      "cell_type": "markdown",
      "metadata": {
        "id": "CZ31IgmPMEfB"
      },
      "source": [
        "1. Tampilkan data pada tableschedules yaitu column duration."
      ]
    },
    {
      "cell_type": "code",
      "execution_count": null,
      "metadata": {
        "colab": {
          "base_uri": "https://localhost:8080/",
          "height": 206
        },
        "id": "6Ef4NFQFVbKc",
        "outputId": "b0a8d0b0-927d-440e-adc5-e63b42dab4ce"
      },
      "outputs": [],
      "source": []
    },
    {
      "cell_type": "markdown",
      "metadata": {
        "id": "tRrEDIBIMSFD"
      },
      "source": [
        "2. Lakukan data cleaning dan simpan di data.csv terhadap data duration\n",
        "\n",
        "Data cleaning yang dilakukan mengubah string duration menjadi number menggunakan function minuteStrToNumber dan menghilangkan missing data."
      ]
    },
    {
      "cell_type": "code",
      "execution_count": null,
      "metadata": {
        "colab": {
          "base_uri": "https://localhost:8080/",
          "height": 206
        },
        "id": "SMfgr3B5MHWD",
        "outputId": "e3a55261-4e66-4bc0-98e6-8af1d66ab848"
      },
      "outputs": [],
      "source": []
    },
    {
      "cell_type": "markdown",
      "metadata": {
        "id": "Nn-JJf5UuCNJ"
      },
      "source": [
        "\n",
        "## **Latihan Statistika**\n",
        "Kerjakan dengan file `ipynb`.\n",
        "1. Lakukan perhitungan mean, median, dan modus terhadap data duration.\n",
        "2. Lakukan pengecekan dispersi (standar deviasi, variance, dan range) terhadap data duration.\n"
      ]
    },
    {
      "cell_type": "markdown",
      "metadata": {
        "id": "iP7j_oVqPu-q"
      },
      "source": [
        "1. Lakukan perhitungan mean, median, dan modus terhadap data duration.\n",
        "\n"
      ]
    },
    {
      "cell_type": "code",
      "execution_count": null,
      "metadata": {
        "colab": {
          "base_uri": "https://localhost:8080/",
          "height": 318
        },
        "id": "dZHqsh2zVdXU",
        "outputId": "bac1ba2e-dedc-4768-e5bf-3856baf423f6"
      },
      "outputs": [],
      "source": []
    },
    {
      "cell_type": "markdown",
      "metadata": {
        "id": "PHD16lYHRRM0"
      },
      "source": [
        "2. Lakukan pengecekan dispersi (standar deviasi, variance, dan range) terhadap data duration.\n",
        "\n"
      ]
    },
    {
      "cell_type": "code",
      "execution_count": null,
      "metadata": {
        "colab": {
          "base_uri": "https://localhost:8080/"
        },
        "id": "7zIXnhlHQ5QB",
        "outputId": "a25001e0-ccee-404a-be44-fdae56e778ad"
      },
      "outputs": [],
      "source": []
    },
    {
      "cell_type": "markdown",
      "metadata": {
        "id": "tRcFdrBFQwe0"
      },
      "source": [
        "Tampilkan skewnessnya"
      ]
    },
    {
      "cell_type": "code",
      "execution_count": null,
      "metadata": {
        "colab": {
          "base_uri": "https://localhost:8080/",
          "height": 447
        },
        "id": "cBJOxoboR6lu",
        "outputId": "d43e7d48-a52d-4a61-a423-279e9f9090ee"
      },
      "outputs": [],
      "source": []
    },
    {
      "cell_type": "markdown",
      "metadata": {
        "id": "skDIfko_uEXb"
      },
      "source": [
        "\n",
        "## **Latihan REST API**\n",
        "Kerjakan pada file `py`. Buatkan REST API dengan method GET untuk menampilkan data pada file csv yang dikerjakan sebelumnya pada `Latihan Pandas`.\n",
        "- `GET /` akan menampilkan list of directory dari `data.csv`\n"
      ]
    },
    {
      "cell_type": "code",
      "execution_count": null,
      "metadata": {
        "id": "b_F9vT8BVh58"
      },
      "outputs": [],
      "source": []
    }
  ],
  "metadata": {
    "colab": {
      "collapsed_sections": [
        "3KdjVOTlSZPt",
        "Mwkl787OTEtf",
        "xbNyKK2aXfxN"
      ],
      "provenance": []
    },
    "kernelspec": {
      "display_name": "Python 3",
      "name": "python3"
    },
    "language_info": {
      "codemirror_mode": {
        "name": "ipython",
        "version": 3
      },
      "file_extension": ".py",
      "mimetype": "text/x-python",
      "name": "python",
      "nbconvert_exporter": "python",
      "pygments_lexer": "ipython3",
      "version": "3.11.5"
    }
  },
  "nbformat": 4,
  "nbformat_minor": 0
}
