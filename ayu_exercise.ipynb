{
  "cells": [
    {
      "cell_type": "markdown",
      "metadata": {
        "id": "4bolQCP0QaGV"
      },
      "source": [
        "Nama : .....   \n",
        "Batch : ......  \n",
        "Objective : ....."
      ]
    },
    {
      "cell_type": "markdown",
      "metadata": {
        "id": "s43_pVnBCDUv"
      },
      "source": [
        "# **Latihan Buddy Session**\n",
        "\n",
        "> Dilarang dibuka saat livecode. Kalian boleh membuka jawaban latihan tapi bukan kunci jawaban instruktur.\n",
        "\n",
        "## Objective\n",
        "- Student dapat mengakses dataset pada bigquery\n",
        "- Student dapat menggunakan panda pada colab dengan file ipynb\n",
        "- Student dapat menjelaskan data dengan narasi yang mudah dipahami orang awam\n",
        "- Student dapat menjelas deskriptif statiska data yang didapat dan memberikan insight sebagai data analyst.\n",
        "- Student dapat membuat REST API sederhana dengan FASTAPI gunakan file py dan file csv.\n",
        "\n",
        "> ***BUATLAH DOKUMENTASI PENGERJAAN YANG JELAS, DAPAT DI PAHAMI DAN RAPI.***\n",
        "\n",
        "# **Exercise**\n",
        "Menggunakan dataset bigquery berikut `bigquery-public-data.baseball.games_wide`\n",
        "\n",
        "> Ingat ini latihan tapi harus latih kebiasaan membuat narasi penjelasan kode yang dibuat ataupun analisa yang dibuat untuk apa, jangan lupa selalu berikan nama dan batch diawal file."
      ]
    },
    {
      "cell_type": "markdown",
      "metadata": {
        "id": "zj3EplvGt_Bw"
      },
      "source": [
        "\n",
        "## **Latihan Pandas**\n",
        "Kerjakan dengan file `ipynb`.\n",
        "1. Tampilkan data pada tableschedules yaitu column duration.\n",
        "2. Lakukan data cleaning dan simpan di data.csv terhadap data duration.\n"
      ]
    },
    {
      "cell_type": "code",
      "execution_count": 1,
      "metadata": {
        "colab": {
          "base_uri": "https://localhost:8080/"
        },
        "id": "3iyp9ooIuM_e",
        "outputId": "c30982fe-1964-458d-84be-563788dec6cf"
      },
      "outputs": [
        {
          "output_type": "stream",
          "name": "stdout",
          "text": [
            "Authenticated\n"
          ]
        }
      ],
      "source": [
        "# Import panda dan setup project id disini\n",
        "\n",
        "import pandas as pd\n",
        "from google.colab import auth\n",
        "from google.cloud import bigquery\n",
        "auth.authenticate_user()\n",
        "print('Authenticated')\n",
        "\n",
        "client = bigquery.Client('ayusudi-e52a2')"
      ]
    },
    {
      "cell_type": "markdown",
      "metadata": {
        "id": "CZ31IgmPMEfB"
      },
      "source": [
        "1. Tampilkan data pada tableschedules yaitu column duration."
      ]
    },
    {
      "cell_type": "code",
      "execution_count": 5,
      "metadata": {
        "colab": {
          "base_uri": "https://localhost:8080/"
        },
        "id": "6Ef4NFQFVbKc",
        "outputId": "868d8d1c-686d-493c-96c4-5556d1af32ec"
      },
      "outputs": [
        {
          "output_type": "execute_result",
          "data": {
            "text/plain": [
              "0       6:13\n",
              "1       6:13\n",
              "2       6:13\n",
              "3       6:13\n",
              "4       6:13\n",
              "        ... \n",
              "1495    2:48\n",
              "1496    2:48\n",
              "1497    2:48\n",
              "1498    2:48\n",
              "1499    2:48\n",
              "Name: duration, Length: 1500, dtype: object"
            ]
          },
          "metadata": {},
          "execution_count": 5
        }
      ],
      "source": [
        "sql = \"SELECT * FROM `bigquery-public-data.baseball.games_wide` LIMIT 1500\"\n",
        "df = client.query(sql).to_dataframe()\n",
        "data = df[\"duration\"]\n",
        "data"
      ]
    },
    {
      "cell_type": "markdown",
      "metadata": {
        "id": "tRrEDIBIMSFD"
      },
      "source": [
        "2. Lakukan data cleaning dan simpan di data.csv terhadap data duration\n",
        "\n",
        "Data cleaning yang dilakukan mengubah string duration menjadi number menggunakan function minuteStrToNumber dan menghilangkan missing data."
      ]
    },
    {
      "cell_type": "code",
      "execution_count": 21,
      "metadata": {
        "id": "SMfgr3B5MHWD"
      },
      "outputs": [],
      "source": [
        "def minuteStrToNumber(str):\n",
        "  result = 0\n",
        "  if ':' in str :\n",
        "    list = str.split(\":\")\n",
        "    minute = int(list[0]) * 60\n",
        "    seconds = int(list[1])\n",
        "    result = minute + seconds\n",
        "  elif len(str) > 0:\n",
        "    result = int(str)\n",
        "  return result\n",
        "\n",
        "dataBaru = map(minuteStrToNumber, df['duration'])\n",
        "dataResult = pd.DataFrame({\n",
        "    \"duration\" : dataBaru\n",
        "})\n",
        "\n",
        "dataResult.to_csv(\"data.csv\", index=False)"
      ]
    },
    {
      "cell_type": "markdown",
      "metadata": {
        "id": "Nn-JJf5UuCNJ"
      },
      "source": [
        "\n",
        "## **Latihan Statistika**\n",
        "Kerjakan dengan file `ipynb`.\n",
        "1. Lakukan perhitungan mean, median, dan modus terhadap data duration.\n",
        "2. Lakukan pengecekan dispersi (standar deviasi, variance, dan range) terhadap data duration.\n"
      ]
    },
    {
      "cell_type": "markdown",
      "metadata": {
        "id": "iP7j_oVqPu-q"
      },
      "source": [
        "1. Lakukan perhitungan mean, median, dan modus terhadap data duration.\n",
        "\n"
      ]
    },
    {
      "cell_type": "code",
      "execution_count": 29,
      "metadata": {
        "colab": {
          "base_uri": "https://localhost:8080/"
        },
        "id": "dZHqsh2zVdXU",
        "outputId": "4dfb42a2-2aa6-42e8-ddbf-33a2ef4414d4"
      },
      "outputs": [
        {
          "output_type": "stream",
          "name": "stdout",
          "text": [
            "Rata-rata duration : 220.01666666666668\n",
            "Median duration : 199.0\n",
            "Modues duration : 373\n"
          ]
        }
      ],
      "source": [
        "print(f\"Rata-rata duration : {dataResult['duration'].mean()}\")\n",
        "print(f\"Median duration : {dataResult['duration'].median()}\")\n",
        "print(f\"Modues duration : {dataResult['duration'].mode()[0]}\")"
      ]
    },
    {
      "cell_type": "markdown",
      "metadata": {
        "id": "PHD16lYHRRM0"
      },
      "source": [
        "2. Lakukan pengecekan dispersi (standar deviasi, variance, dan range) terhadap data duration.\n",
        "\n"
      ]
    },
    {
      "cell_type": "code",
      "execution_count": 38,
      "metadata": {
        "colab": {
          "base_uri": "https://localhost:8080/"
        },
        "id": "7zIXnhlHQ5QB",
        "outputId": "21e801c7-5425-4c3c-dd5f-ea712c01a69a"
      },
      "outputs": [
        {
          "output_type": "stream",
          "name": "stdout",
          "text": [
            "Standar deviasi : 82.53\n",
            "Variance : 6811.35\n",
            "Range duration : 240\n"
          ]
        }
      ],
      "source": [
        "\n",
        "max = dataResult['duration'].max()\n",
        "min = dataResult['duration'].min()\n",
        "std = \"{:.2f}\".format(dataResult[\"duration\"].std())\n",
        "variance = \"{:.2f}\".format(dataResult[\"duration\"].var())\n",
        "\n",
        "print(f\"Standar deviasi : {std}\")\n",
        "print(f\"Variance : {variance}\")\n",
        "print(f\"Range duration : {max- min}\")\n"
      ]
    },
    {
      "cell_type": "markdown",
      "metadata": {
        "id": "tRcFdrBFQwe0"
      },
      "source": [
        "Tampilkan skewnessnya"
      ]
    },
    {
      "cell_type": "code",
      "execution_count": 41,
      "metadata": {
        "colab": {
          "base_uri": "https://localhost:8080/",
          "height": 465
        },
        "id": "cBJOxoboR6lu",
        "outputId": "1f5900d3-d8db-49fd-a72d-0389ba4be183"
      },
      "outputs": [
        {
          "output_type": "stream",
          "name": "stdout",
          "text": [
            "Skewness : 1.1423560439233134\n"
          ]
        },
        {
          "output_type": "execute_result",
          "data": {
            "text/plain": [
              "<Axes: >"
            ]
          },
          "metadata": {},
          "execution_count": 41
        },
        {
          "output_type": "display_data",
          "data": {
            "text/plain": [
              "<Figure size 640x480 with 1 Axes>"
            ],
            "image/png": "[encoded data removed]"
          },
          "metadata": {}
        }
      ],
      "source": [
        "skew = dataResult[\"duration\"].skew()\n",
        "print(f\"Skewness : {skew}\")\n",
        "dataResult.boxplot(column='duration')"
      ]
    },
    {
      "cell_type": "markdown",
      "source": [
        "Skewnessnya > 1 maka skewness ini adalah highly skewed."
      ],
      "metadata": {
        "id": "u5UpcAKuV3FA"
      }
    },
    {
      "cell_type": "markdown",
      "metadata": {
        "id": "skDIfko_uEXb"
      },
      "source": [
        "\n",
        "## **Latihan REST API**\n",
        "Kerjakan pada file `py`. Buatkan REST API dengan method GET untuk menampilkan data pada file csv yang dikerjakan sebelumnya pada `Latihan Pandas`.\n",
        "- `GET /` akan menampilkan list of directory dari `data.csv`\n"
      ]
    },
    {
      "cell_type": "code",
      "execution_count": null,
      "metadata": {
        "id": "b_F9vT8BVh58"
      },
      "outputs": [],
      "source": []
    }
  ],
  "metadata": {
    "colab": {
      "collapsed_sections": [
        "3KdjVOTlSZPt",
        "Mwkl787OTEtf",
        "xbNyKK2aXfxN"
      ],
      "provenance": []
    },
    "kernelspec": {
      "display_name": "Python 3",
      "name": "python3"
    },
    "language_info": {
      "codemirror_mode": {
        "name": "ipython",
        "version": 3
      },
      "file_extension": ".py",
      "mimetype": "text/x-python",
      "name": "python",
      "nbconvert_exporter": "python",
      "pygments_lexer": "ipython3",
      "version": "3.11.5"
    }
  },
  "nbformat": 4,
  "nbformat_minor": 0
}