{
  "nbformat": 4,
  "nbformat_minor": 0,
  "metadata": {
    "colab": {
      "provenance": [],
      "collapsed_sections": [
        "3KdjVOTlSZPt",
        "Mwkl787OTEtf",
        "xbNyKK2aXfxN"
      ],
      "toc_visible": true
    },
    "kernelspec": {
      "name": "python3",
      "display_name": "Python 3"
    },
    "language_info": {
      "name": "python"
    }
  },
  "cells": [
    {
      "cell_type": "markdown",
      "source": [
        "# **Latihan Buddy Session**\n",
        "\n",
        "> Dilarang dibuka saat livecode. Kalian boleh membuka jawaban latihan tapi bukan kunci jawaban instruktur.\n",
        "\n",
        "## Objective\n",
        "- Student dapat mengakses dataset pada bigquery\n",
        "- Student dapat menggunakan panda pada colab dengan file ipynb\n",
        "- Student dapat menjelaskan data dengan narasi yang mudah dipahami orang awam\n",
        "- Student dapat menjelas deskriptif statiska data yang didapat dan memberikan insight sebagai data analyst.\n",
        "- Student dapat membuat REST API sederhana dengan FASTAPI gunakan file py dan file csv.\n",
        "\n",
        "> ***BUATLAH DOKUMENTASI PENGERJAAN YANG JELAS, DAPAT DI PAHAMI DAN RAPI.***\n",
        "\n",
        "# **Topic: Salary Jobs in Data Science**\n",
        "Menggunakan dataset bigquery berikut `ayusudi-e52a2.exercise.ds-salaries`\n",
        "\n",
        "> Ingat ini latihan tapi harus latih kebiasaan membuat narasi penjelasan kode yang dibuat ataupun analisa yang dibuat untuk apa, jangan lupa selalu berikan nama dan batch diawal file."
      ],
      "metadata": {
        "id": "s43_pVnBCDUv"
      }
    },
    {
      "cell_type": "markdown",
      "source": [
        "\n",
        "## **Latihan Pandas**\n",
        "Kerjakan dengan file `ipynb`.\n",
        "1. Tampilkan data pada table salaries dengan panda & terdapat kolom apa saja pada table salaries? Simpan data ke csv dengan nama rawdata.csv.\n",
        "2. Coba perhatikan data dan lakukan data cleansing dengan mengantikan data type dan data yang invalid seperti \"-\" tidak disertakan pada data cleansing. Tampilkan hasil data cleansing. Berapa total data setelah di cleansing?\n",
        "3. Berdasarkan data yang sudah dirapikan kira-kira deskriptif data terhadap kolom apa? simpan kembali data yang digunakan ke csv baru dengan nama data.csv.\n"
      ],
      "metadata": {
        "id": "zj3EplvGt_Bw"
      }
    },
    {
      "cell_type": "code",
      "source": [
        "# Import panda dan setup project id disini"
      ],
      "metadata": {
        "colab": {
          "base_uri": "https://localhost:8080/"
        },
        "id": "3iyp9ooIuM_e",
        "outputId": "28bfa287-ec28-4eda-da48-ae7cb9da62c6"
      },
      "execution_count": null,
      "outputs": [
        {
          "output_type": "stream",
          "name": "stdout",
          "text": [
            "Authenticated\n"
          ]
        }
      ]
    },
    {
      "cell_type": "code",
      "source": [],
      "metadata": {
        "id": "6Ef4NFQFVbKc"
      },
      "execution_count": null,
      "outputs": []
    },
    {
      "cell_type": "markdown",
      "source": [
        "\n",
        "## **Latihan Statistika**\n",
        "Kerjakan dengan file `ipynb`.\n",
        "1. Lakukan perhitungan mean, median, dan modus.\n",
        "2. Lakukan pengecekan dispersi (standar deviasi, variance, dan range).\n"
      ],
      "metadata": {
        "id": "Nn-JJf5UuCNJ"
      }
    },
    {
      "cell_type": "code",
      "source": [],
      "metadata": {
        "id": "dZHqsh2zVdXU"
      },
      "execution_count": null,
      "outputs": []
    },
    {
      "cell_type": "markdown",
      "source": [
        "\n",
        "## **Latihan REST API**\n",
        "Kerjakan pada file `py`. Buatkan REST API dengan method GET untuk menampilkan data pada file csv yang dikerjakan sebelumnya pada `Latihan Pandas`.\n",
        "- `GET /` akan menampilkan list of directory dari `data.csv`\n",
        "- `GET /raw` akan menampilkan list of directory dari `rawdata.csv`\n"
      ],
      "metadata": {
        "id": "skDIfko_uEXb"
      }
    },
    {
      "cell_type": "code",
      "source": [],
      "metadata": {
        "id": "b_F9vT8BVh58"
      },
      "execution_count": null,
      "outputs": []
    }
  ]
}