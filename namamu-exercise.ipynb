{
  "cells": [
    {
      "cell_type": "markdown",
      "metadata": {
        "id": "s43_pVnBCDUv"
      },
      "source": [
        "# **Latihan Buddy Session**\n",
        "\n",
        "> Dilarang dibuka saat livecode. Kalian boleh membuka jawaban latihan tapi bukan kunci jawaban instruktur.\n",
        "\n",
        "## Objective\n",
        "- Student dapat mengakses dataset pada bigquery\n",
        "- Student dapat menggunakan panda pada colab dengan file ipynb\n",
        "- Student dapat menjelaskan data dengan narasi yang mudah dipahami orang awam\n",
        "- Student dapat menjelas deskriptif statiska data yang didapat dan memberikan insight sebagai data analyst.\n",
        "- Student dapat membuat REST API sederhana dengan FASTAPI gunakan file py dan file csv.\n",
        "\n",
        "> ***BUATLAH DOKUMENTASI PENGERJAAN YANG JELAS, DAPAT DI PAHAMI DAN RAPI.***\n",
        "\n",
        "# **Topic: Salary Jobs in Data Science**\n",
        "Menggunakan dataset bigquery berikut `bigquery-public-data.baseball.games_wide`\n",
        "\n",
        "> Ingat ini latihan tapi harus latih kebiasaan membuat narasi penjelasan kode yang dibuat ataupun analisa yang dibuat untuk apa, jangan lupa selalu berikan nama dan batch diawal file."
      ]
    },
    {
      "cell_type": "markdown",
      "metadata": {
        "id": "zj3EplvGt_Bw"
      },
      "source": [
        "\n",
        "## **Latihan Pandas**\n",
        "Kerjakan dengan file `ipynb`.\n",
        "1. Tampilkan data pada table salaries dengan panda & terdapat kolom apa saja pada table games_wide? Simpan data ke csv dengan nama rawdata.csv.\n",
        "2. Lakukan data cleaning dan simpan di data.csv terhadap data duration.\n"
      ]
    },
    {
      "cell_type": "code",
      "execution_count": null,
      "metadata": {
        "colab": {
          "base_uri": "https://localhost:8080/"
        },
        "id": "3iyp9ooIuM_e",
        "outputId": "28bfa287-ec28-4eda-da48-ae7cb9da62c6"
      },
      "outputs": [
        {
          "name": "stdout",
          "output_type": "stream",
          "text": [
            "Authenticated\n"
          ]
        }
      ],
      "source": [
        "# Import panda dan setup project id disini"
      ]
    },
    {
      "cell_type": "code",
      "execution_count": null,
      "metadata": {
        "id": "6Ef4NFQFVbKc"
      },
      "outputs": [],
      "source": []
    },
    {
      "cell_type": "markdown",
      "metadata": {
        "id": "Nn-JJf5UuCNJ"
      },
      "source": [
        "\n",
        "## **Latihan Statistika**\n",
        "Kerjakan dengan file `ipynb`.\n",
        "1. Lakukan perhitungan mean, median, dan modus terhadap data duration.\n",
        "2. Lakukan pengecekan dispersi (standar deviasi, variance, dan range) terhadap data duration.\n"
      ]
    },
    {
      "cell_type": "code",
      "execution_count": null,
      "metadata": {
        "id": "dZHqsh2zVdXU"
      },
      "outputs": [],
      "source": []
    },
    {
      "cell_type": "markdown",
      "metadata": {
        "id": "skDIfko_uEXb"
      },
      "source": [
        "\n",
        "## **Latihan REST API**\n",
        "Kerjakan pada file `py`. Buatkan REST API dengan method GET untuk menampilkan data pada file csv yang dikerjakan sebelumnya pada `Latihan Pandas`.\n",
        "- `GET /` akan menampilkan list of directory dari `data.csv`\n",
        "- `GET /raw` akan menampilkan list of directory dari `rawdata.csv`\n"
      ]
    },
    {
      "cell_type": "code",
      "execution_count": null,
      "metadata": {
        "id": "b_F9vT8BVh58"
      },
      "outputs": [],
      "source": []
    }
  ],
  "metadata": {
    "colab": {
      "collapsed_sections": [
        "3KdjVOTlSZPt",
        "Mwkl787OTEtf",
        "xbNyKK2aXfxN"
      ],
      "provenance": [],
      "toc_visible": true
    },
    "kernelspec": {
      "display_name": "Python 3",
      "name": "python3"
    },
    "language_info": {
      "name": "python"
    }
  },
  "nbformat": 4,
  "nbformat_minor": 0
}
